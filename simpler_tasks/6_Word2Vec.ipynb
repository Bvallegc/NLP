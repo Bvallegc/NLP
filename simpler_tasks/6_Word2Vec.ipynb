{
 "cells": [
  {
   "cell_type": "code",
   "execution_count": 100,
   "metadata": {},
   "outputs": [],
   "source": [
    "import spacy\n",
    "from spacy import displacy\n",
    "from scipy import spatial\n",
    "import nltk \n",
    "from nltk.corpus import stopwords"
   ]
  },
  {
   "cell_type": "code",
   "execution_count": 101,
   "metadata": {},
   "outputs": [
    {
     "data": {
      "text/plain": [
       "array([ 0.2847   ,  0.50175  , -1.3979   , -3.49545  , -0.97225  ,\n",
       "        1.07365  , -2.15445  , -1.28875  ,  1.6055   ,  0.1013   ,\n",
       "        1.805    , -0.07374  , -0.07023  ,  1.8286   ,  0.6177   ,\n",
       "       -1.6843   ,  1.5024   ,  0.8762   ,  0.91305  , -0.60405  ,\n",
       "       -0.96175  ,  2.40955  , -0.91875  , -0.88015  ,  2.00285  ,\n",
       "        0.9176   , -2.09765  , -1.3827   , -0.8848   , -0.6352   ,\n",
       "       -2.70295  , -0.484295 , -3.15995  ,  1.07635  ,  1.3034   ,\n",
       "       -1.9      ,  0.256715 ,  0.44553  ,  0.97095  , -2.7768   ,\n",
       "        0.44267  ,  1.7413   ,  2.1181   , -0.6347   , -0.72745  ,\n",
       "       -1.48835  ,  1.14115  , -0.9181   ,  0.8729   , -0.751    ,\n",
       "        0.41189  ,  4.19645  ,  0.49208  ,  1.42805  , -0.289105 ,\n",
       "       -0.87675  ,  0.05564  , -0.769    ,  1.60225  , -1.0395   ,\n",
       "       -1.01865  , -2.9066   ,  0.07911  ,  2.02395  , -1.4147   ,\n",
       "       -2.4222   , -1.2004   , -0.216485 , -0.24367  , -1.26245  ,\n",
       "        2.36945  ,  0.70295  ,  2.6433   , -1.40395  ,  0.38832  ,\n",
       "       -2.61795  , -0.365805 , -0.83215  ,  0.64075  , -0.71295  ,\n",
       "       -0.484175 , -0.7364   ,  0.010953 ,  0.8843   , -0.81665  ,\n",
       "       -2.36205  ,  1.02955  ,  0.98985  , -1.33055  , -1.3799   ,\n",
       "        0.0442455, -2.01725  ,  2.8195   , -0.064735 ,  0.0306125,\n",
       "        0.56255  , -0.131555 ,  1.0986   ,  1.12855  , -1.9155   ,\n",
       "        0.94085  , -0.278305 ,  2.71975  , -1.6489   , -0.48541  ,\n",
       "        0.79935  , -0.6714   ,  4.29795  , -1.3621   , -0.6432   ,\n",
       "       -2.1702   ,  0.155635 ,  1.73845  ,  0.07422  ,  1.49285  ,\n",
       "       -0.11258  ,  2.67925  ,  1.6097   ,  2.4677   , -0.8596   ,\n",
       "        0.104055 ,  1.7395   , -3.93185  ,  1.05085  , -1.8861   ,\n",
       "       -0.5671   ,  1.4793   ,  1.0566   ,  2.29565  ,  0.6205   ,\n",
       "        1.54885  , -1.6202   , -1.8024   ,  0.405225 ,  1.82365  ,\n",
       "        1.9257   , -0.96245  , -0.79585  , -2.6938   , -0.8016   ,\n",
       "       -4.36755  ,  0.491375 , -2.0252   , -1.01975  , -1.12445  ,\n",
       "        1.43855  ,  0.9719   ,  1.95655  , -1.0606   ,  0.25538  ,\n",
       "        0.408375 ,  1.4236   ,  0.10054  , -1.61615  ,  0.88455  ,\n",
       "        0.54     ,  1.56785  ,  0.37445  ,  2.0249   ,  2.0226   ,\n",
       "       -0.29649  ,  0.185005 ,  1.7082   , -0.10334  , -3.7377   ,\n",
       "       -1.08735  , -0.46555  ,  2.2603   ,  1.2617   , -0.405315 ,\n",
       "       -0.9593   ,  2.47925  ,  0.8221   ,  0.99955  , -0.53865  ,\n",
       "       -1.7595   ,  1.06715  , -1.0606   , -2.39445  ,  0.48922  ,\n",
       "       -0.99005  , -1.3859   , -1.34815  ,  1.8442   ,  1.78195  ,\n",
       "        0.5651   ,  2.9654   , -2.5899   ,  0.4783   , -1.2867   ,\n",
       "        2.4208   ,  0.7948   , -1.3723   , -1.1223   , -0.01372  ,\n",
       "       -1.5941   , -0.76175  ,  1.8112   , -1.35415  ,  0.04979  ,\n",
       "        0.70385  ,  0.41688  , -0.29766  ,  2.2951   , -1.8207   ,\n",
       "        0.482325 , -0.30483  , -1.1145   , -0.55405  , -0.58295  ,\n",
       "        0.14631  ,  1.4381   , -0.67915  , -0.216085 ,  0.12855  ,\n",
       "       -0.316215 ,  1.79855  ,  0.150335 , -0.7237   ,  0.142425 ,\n",
       "        0.9771   , -1.71355  ,  0.37005  ,  3.0134   , -2.0532   ,\n",
       "        2.2264   ,  0.68215  , -0.364145 ,  2.0581   ,  0.6804   ,\n",
       "        0.71055  , -2.48725  ,  1.18045  ,  0.84575  , -0.85645  ,\n",
       "        0.0332215, -0.105255 , -0.07239  , -0.24524  ,  2.0835   ,\n",
       "        0.33859  , -1.41095  ,  0.7121   , -1.71055  , -1.8318   ,\n",
       "       -0.73885  ,  1.2603   ,  0.25456  , -0.33081  ,  0.9656   ,\n",
       "       -2.09545  , -0.379005 , -1.2994   , -0.190335 , -2.10625  ,\n",
       "        0.23131  , -1.2185   ,  5.762    , -0.466395 , -0.5648   ,\n",
       "        1.6725   , -3.09525  , -0.371415 ,  0.9443   , -3.981    ,\n",
       "        0.30997  , -4.26785  , -0.48997  , -1.33295  ,  0.7662   ,\n",
       "        0.582    , -0.226555 ,  1.7334   , -0.52065  ,  0.472385 ,\n",
       "       -1.2972   , -0.390825 , -1.45595  , -0.88625  ,  2.2131   ,\n",
       "       -2.1451   , -2.1323   ,  2.30625  , -0.57405  ,  1.8318   ,\n",
       "        0.7502   , -1.04895  ,  0.68195  ,  2.06405  , -0.289375 ,\n",
       "       -0.0253365,  0.8993   ,  3.3897   , -1.2706   , -0.204185 ,\n",
       "        1.58575  ,  0.487085 ,  2.6633   , -5.0745   , -0.15574  ],\n",
       "      dtype=float32)"
      ]
     },
     "execution_count": 101,
     "metadata": {},
     "output_type": "execute_result"
    }
   ],
   "source": [
    "nlp = spacy.load(\"en_core_web_lg\")\n",
    "nlp(u' fox').vector"
   ]
  },
  {
   "cell_type": "code",
   "execution_count": 102,
   "metadata": {},
   "outputs": [
    {
     "data": {
      "text/plain": [
       "array([-1.615     ,  0.73115796, -0.43866196,  0.017288  ,  1.7033421 ,\n",
       "       -2.4918282 ,  0.13813403,  3.185108  ,  1.431782  ,  0.16901802,\n",
       "        2.7527    ,  0.64076406, -2.342192  ,  0.41953403,  0.797184  ,\n",
       "       -1.1299    ,  1.4179399 ,  1.630098  ,  2.56572   , -1.1786883 ,\n",
       "       -1.8828003 ,  0.10497598,  1.5746659 , -2.4389    ,  1.6264408 ,\n",
       "       -0.195288  , -3.663484  , -2.367334  ,  1.120072  ,  1.517998  ,\n",
       "       -1.5409119 , -0.74236   , -1.70981   ,  0.21122456, -2.4972022 ,\n",
       "       -2.9451559 ,  0.741366  ,  0.69130594,  2.56254   , -2.1797023 ,\n",
       "        1.455228  ,  0.19872916,  0.96076   , -0.1895    , -0.50636196,\n",
       "       -0.3994352 ,  1.72168   , -0.43335405, -2.79734   ,  0.04104001,\n",
       "        0.870872  ,  3.07908   , -0.85011005,  0.15068403, -0.992664  ,\n",
       "       -0.5621961 , -0.08378398,  1.3055401 ,  2.0414014 ,  0.24415842,\n",
       "        0.33115202, -2.2055602 ,  0.27012798,  1.9971001 , -0.91020405,\n",
       "       -1.43928   , -3.3562179 , -2.326374  ,  1.410608  ,  0.12847403,\n",
       "        0.52536   ,  0.494448  ,  0.47294015, -0.5851339 , -0.22306204,\n",
       "       -0.48378196,  0.15025802,  0.48946   ,  0.12913978, -0.73069644,\n",
       "       -2.379094  , -2.0692801 , -1.0096788 ,  1.25272   ,  1.7908599 ,\n",
       "       -0.9036261 ,  2.79906   , -0.04914599, -2.5143478 ,  0.61309   ,\n",
       "       -0.6750078 , -0.32888407,  2.54184   , -0.17071861,  0.26411504,\n",
       "       -0.08619805,  2.3224058 ,  0.89006007,  2.165062  ,  0.25915796,\n",
       "        0.8285859 , -1.261076  ,  2.086974  ,  2.1299443 , -0.21456781,\n",
       "        0.5569401 , -1.60378   ,  1.9442778 , -0.913892  , -0.95242196,\n",
       "       -0.7128006 ,  0.98087406, -0.5353999 ,  1.931312  ,  0.894812  ,\n",
       "       -1.6521759 ,  0.886004  , -0.6169411 ,  1.6394199 , -0.11687199,\n",
       "       -0.30550203, -0.190044  , -0.70105994,  2.47268   , -1.375986  ,\n",
       "       -0.648144  ,  0.97559243, -0.231462  ,  4.2825003 ,  0.31813997,\n",
       "       -2.8985977 , -1.7611881 ,  1.7779    , -0.580056  ,  0.39031202,\n",
       "        0.85677797, -0.60733604, -3.11234   ,  0.97764003, -0.15887599,\n",
       "       -3.6071002 ,  0.13601403, -1.73926   , -0.18580799, -0.70062   ,\n",
       "        0.685252  , -0.43827993,  0.99436396,  1.3498939 ,  0.65000397,\n",
       "        0.7475419 ,  2.8786798 ,  0.20917603, -0.77544403, -0.52630484,\n",
       "        1.10618   ,  2.88104   , -1.4148799 ,  1.196578  ,  1.7139801 ,\n",
       "        1.236796  , -1.0417379 ,  1.1953919 , -2.6903958 , -3.408744  ,\n",
       "       -0.42112   , -1.429724  ,  0.6638    , -0.313608  ,  0.878424  ,\n",
       "       -0.41962606,  3.11922   ,  1.7436501 ,  0.22487998, -1.51121   ,\n",
       "       -0.20153204,  0.22349992, -2.05798   , -1.58918   , -0.7827472 ,\n",
       "       -1.330986  ,  0.09964222,  0.06207442,  0.9869    , -0.30682   ,\n",
       "       -1.50693   , -1.2281196 , -2.191202  ,  0.47935557, -2.3384001 ,\n",
       "        1.20602   ,  1.31761   , -0.8693681 , -0.65864   ,  1.2964699 ,\n",
       "       -0.38857   , -1.44396   , -0.16076404, -1.309934  , -0.21346001,\n",
       "        0.34005594, -0.535046  , -1.1445577 , -0.7100479 ,  0.93315995,\n",
       "        1.0069644 , -3.7653117 ,  0.14853014,  0.191566  ,  0.23523481,\n",
       "        0.435994  ,  1.7084318 , -1.03388   , -0.2700088 ,  1.4422156 ,\n",
       "        0.40605992,  2.61922   ,  0.139244  , -2.405738  ,  0.10005765,\n",
       "       -1.648928  ,  0.67755586, -1.522344  ,  1.3883001 , -1.922932  ,\n",
       "        0.67168695,  0.47529   ,  1.632602  ,  3.0956483 ,  0.7767579 ,\n",
       "        0.802909  , -3.05359   ,  1.635946  ,  0.578938  , -2.0028203 ,\n",
       "        1.5184625 , -1.128546  ,  1.2410339 , -0.45437998,  3.326482  ,\n",
       "        1.8903358 , -2.4961722 ,  1.77654   , -0.15610322, -0.94260806,\n",
       "        1.4371201 , -0.50928175, -0.59553605, -1.221542  , -0.415412  ,\n",
       "       -0.624964  , -1.675564  , -2.5494435 , -1.323242  , -0.666676  ,\n",
       "       -1.729809  ,  1.1727359 ,  4.390082  , -0.28563803, -1.214412  ,\n",
       "        1.775902  , -0.414936  ,  1.1300812 ,  0.77161705, -1.810062  ,\n",
       "       -1.393386  , -2.9972858 , -0.30180797, -2.399366  ,  0.261624  ,\n",
       "        0.6725    , -0.27217802,  0.69558007, -1.088974  , -0.264166  ,\n",
       "       -2.4113898 ,  0.23572204, -0.84566003, -0.16156402,  1.9245478 ,\n",
       "       -0.08114004, -1.1815579 ,  0.18797809, -0.64504004,  1.6769199 ,\n",
       "       -1.097682  ,  0.07828407, -2.18926   ,  1.10807   ,  0.80761206,\n",
       "       -1.1212146 ,  0.84139407,  3.769678  ,  1.2326021 , -0.30580598,\n",
       "        3.210394  ,  0.63234997,  0.676008  , -2.833096  , -1.0153    ],\n",
       "      dtype=float32)"
      ]
     },
     "execution_count": 102,
     "metadata": {},
     "output_type": "execute_result"
    }
   ],
   "source": [
    "nlp(u'The quick brown fox jumped').vector"
   ]
  },
  {
   "cell_type": "code",
   "execution_count": 103,
   "metadata": {},
   "outputs": [
    {
     "data": {
      "text/plain": [
       "(300,)"
      ]
     },
     "execution_count": 103,
     "metadata": {},
     "output_type": "execute_result"
    }
   ],
   "source": [
    "nlp(u' fox').vector.shape"
   ]
  },
  {
   "cell_type": "code",
   "execution_count": 104,
   "metadata": {},
   "outputs": [
    {
     "data": {
      "text/plain": [
       "(300,)"
      ]
     },
     "execution_count": 104,
     "metadata": {},
     "output_type": "execute_result"
    }
   ],
   "source": [
    "nlp(u'The quick brown fox jumped').vector.shape"
   ]
  },
  {
   "cell_type": "code",
   "execution_count": 105,
   "metadata": {},
   "outputs": [
    {
     "name": "stdout",
     "output_type": "stream",
     "text": [
      "lion lion 1.0\n",
      "lion cat 0.3854507803916931\n",
      "lion pet 0.20031583309173584\n",
      "cat lion 0.3854507803916931\n",
      "cat cat 1.0\n",
      "cat pet 0.732966423034668\n",
      "pet lion 0.20031583309173584\n",
      "pet cat 0.732966423034668\n",
      "pet pet 1.0\n"
     ]
    }
   ],
   "source": [
    "tokens = nlp(u'lion cat pet')\n",
    "for token1 in tokens:\n",
    "    for token2 in tokens:\n",
    "        print(token1.text, token2.text, token1.similarity(token2)) #Check tokens similarity in context."
   ]
  },
  {
   "cell_type": "code",
   "execution_count": 106,
   "metadata": {},
   "outputs": [
    {
     "name": "stdout",
     "output_type": "stream",
     "text": [
      "dog True 75.254234 False\n",
      "cat True 63.188496 False\n",
      "nargle False 0.0 True\n"
     ]
    }
   ],
   "source": [
    "tokens = nlp(u'dog cat nargle')\n",
    "for token in tokens:\n",
    "    print(token.text,token.has_vector,token.vector_norm, token.is_oov) # oov is out of vocab!"
   ]
  },
  {
   "cell_type": "code",
   "execution_count": 107,
   "metadata": {},
   "outputs": [],
   "source": [
    "# Compute cosine similarity between the vectors. This allows further arithmetic like shown below.\n",
    "stop_words = set(stopwords.words('english'))\n",
    "cosine_similarity = lambda vec1, vec2: 1-spatial.distance.cosine(vec1, vec2)\n",
    "king = nlp.vocab['king'].vector\n",
    "man = nlp.vocab['man'].vector\n",
    "woman = nlp.vocab['woman'].vector"
   ]
  },
  {
   "cell_type": "code",
   "execution_count": 108,
   "metadata": {},
   "outputs": [],
   "source": [
    "new_vector = (king-man) + woman"
   ]
  },
  {
   "cell_type": "code",
   "execution_count": 109,
   "metadata": {},
   "outputs": [],
   "source": [
    "computed_similarities = []\n",
    "for word in nlp.vocab:\n",
    "    if word.has_vector and word.is_lower and word.is_alpha:\n",
    "        if word not in stop_words:\n",
    "            similarity = cosine_similarity(new_vector, word.vector)\n",
    "            computed_similarities.append((similarity, word.text))"
   ]
  },
  {
   "cell_type": "code",
   "execution_count": 110,
   "metadata": {},
   "outputs": [],
   "source": [
    "computed_similarities = sorted(computed_similarities, reverse=True) "
   ]
  },
  {
   "cell_type": "code",
   "execution_count": 111,
   "metadata": {},
   "outputs": [
    {
     "name": "stdout",
     "output_type": "stream",
     "text": [
      "king\n",
      "and\n",
      "that\n",
      "where\n",
      "she\n",
      "they\n",
      "woman\n",
      "there\n",
      "should\n",
      "these\n",
      "would\n",
      "those\n",
      "cause\n",
      "ought\n",
      "who\n",
      "might\n",
      "not\n",
      "this\n",
      "when\n",
      "could\n"
     ]
    }
   ],
   "source": [
    "for computed_similarities, word in computed_similarities[:20]:\n",
    "    print(word)"
   ]
  },
  {
   "cell_type": "code",
   "execution_count": 112,
   "metadata": {},
   "outputs": [
    {
     "name": "stderr",
     "output_type": "stream",
     "text": [
      "/Library/Frameworks/Python.framework/Versions/3.9/lib/python3.9/site-packages/spacy/displacy/__init__.py:108: UserWarning: [W011] It looks like you're calling displacy.serve from within a Jupyter notebook or a similar environment. This likely means you're already running a local web server, so there's no need to make displaCy start another one. Instead, you should be able to replace displacy.serve with displacy.render to show the visualization.\n",
      "  warnings.warn(Warnings.W011)\n"
     ]
    },
    {
     "data": {
      "text/html": [
       "<span class=\"tex2jax_ignore\"><!DOCTYPE html>\n",
       "<html lang=\"en\">\n",
       "    <head>\n",
       "        <title>displaCy</title>\n",
       "    </head>\n",
       "\n",
       "    <body style=\"font-size: 16px; font-family: -apple-system, BlinkMacSystemFont, 'Segoe UI', Helvetica, Arial, sans-serif, 'Apple Color Emoji', 'Segoe UI Emoji', 'Segoe UI Symbol'; padding: 4rem 2rem; direction: ltr\">\n",
       "<figure style=\"margin-bottom: 6rem\">\n",
       "<svg xmlns=\"http://www.w3.org/2000/svg\" xmlns:xlink=\"http://www.w3.org/1999/xlink\" xml:lang=\"en\" id=\"52afe678ecc44fc5b4f8920d96717222-0\" class=\"displacy\" width=\"1275\" height=\"312.0\" direction=\"ltr\" style=\"max-width: none; height: 312.0px; color: #000000; background: #ffffff; font-family: Arial; direction: ltr\">\n",
       "<text class=\"displacy-token\" fill=\"currentColor\" text-anchor=\"middle\" y=\"222.0\">\n",
       "    <tspan class=\"displacy-word\" fill=\"currentColor\" x=\"50\">He</tspan>\n",
       "    <tspan class=\"displacy-tag\" dy=\"2em\" fill=\"currentColor\" x=\"50\">PRON</tspan>\n",
       "</text>\n",
       "\n",
       "<text class=\"displacy-token\" fill=\"currentColor\" text-anchor=\"middle\" y=\"222.0\">\n",
       "    <tspan class=\"displacy-word\" fill=\"currentColor\" x=\"225\">is</tspan>\n",
       "    <tspan class=\"displacy-tag\" dy=\"2em\" fill=\"currentColor\" x=\"225\">AUX</tspan>\n",
       "</text>\n",
       "\n",
       "<text class=\"displacy-token\" fill=\"currentColor\" text-anchor=\"middle\" y=\"222.0\">\n",
       "    <tspan class=\"displacy-word\" fill=\"currentColor\" x=\"400\">interested</tspan>\n",
       "    <tspan class=\"displacy-tag\" dy=\"2em\" fill=\"currentColor\" x=\"400\">ADJ</tspan>\n",
       "</text>\n",
       "\n",
       "<text class=\"displacy-token\" fill=\"currentColor\" text-anchor=\"middle\" y=\"222.0\">\n",
       "    <tspan class=\"displacy-word\" fill=\"currentColor\" x=\"575\">in</tspan>\n",
       "    <tspan class=\"displacy-tag\" dy=\"2em\" fill=\"currentColor\" x=\"575\">ADP</tspan>\n",
       "</text>\n",
       "\n",
       "<text class=\"displacy-token\" fill=\"currentColor\" text-anchor=\"middle\" y=\"222.0\">\n",
       "    <tspan class=\"displacy-word\" fill=\"currentColor\" x=\"750\">Natural</tspan>\n",
       "    <tspan class=\"displacy-tag\" dy=\"2em\" fill=\"currentColor\" x=\"750\">PROPN</tspan>\n",
       "</text>\n",
       "\n",
       "<text class=\"displacy-token\" fill=\"currentColor\" text-anchor=\"middle\" y=\"222.0\">\n",
       "    <tspan class=\"displacy-word\" fill=\"currentColor\" x=\"925\">Language</tspan>\n",
       "    <tspan class=\"displacy-tag\" dy=\"2em\" fill=\"currentColor\" x=\"925\">PROPN</tspan>\n",
       "</text>\n",
       "\n",
       "<text class=\"displacy-token\" fill=\"currentColor\" text-anchor=\"middle\" y=\"222.0\">\n",
       "    <tspan class=\"displacy-word\" fill=\"currentColor\" x=\"1100\">Processing.</tspan>\n",
       "    <tspan class=\"displacy-tag\" dy=\"2em\" fill=\"currentColor\" x=\"1100\">PROPN</tspan>\n",
       "</text>\n",
       "\n",
       "<g class=\"displacy-arrow\">\n",
       "    <path class=\"displacy-arc\" id=\"arrow-52afe678ecc44fc5b4f8920d96717222-0-0\" stroke-width=\"2px\" d=\"M70,177.0 C70,89.5 220.0,89.5 220.0,177.0\" fill=\"none\" stroke=\"currentColor\"/>\n",
       "    <text dy=\"1.25em\" style=\"font-size: 0.8em; letter-spacing: 1px\">\n",
       "        <textPath xlink:href=\"#arrow-52afe678ecc44fc5b4f8920d96717222-0-0\" class=\"displacy-label\" startOffset=\"50%\" side=\"left\" fill=\"currentColor\" text-anchor=\"middle\">nsubj</textPath>\n",
       "    </text>\n",
       "    <path class=\"displacy-arrowhead\" d=\"M70,179.0 L62,167.0 78,167.0\" fill=\"currentColor\"/>\n",
       "</g>\n",
       "\n",
       "<g class=\"displacy-arrow\">\n",
       "    <path class=\"displacy-arc\" id=\"arrow-52afe678ecc44fc5b4f8920d96717222-0-1\" stroke-width=\"2px\" d=\"M245,177.0 C245,89.5 395.0,89.5 395.0,177.0\" fill=\"none\" stroke=\"currentColor\"/>\n",
       "    <text dy=\"1.25em\" style=\"font-size: 0.8em; letter-spacing: 1px\">\n",
       "        <textPath xlink:href=\"#arrow-52afe678ecc44fc5b4f8920d96717222-0-1\" class=\"displacy-label\" startOffset=\"50%\" side=\"left\" fill=\"currentColor\" text-anchor=\"middle\">acomp</textPath>\n",
       "    </text>\n",
       "    <path class=\"displacy-arrowhead\" d=\"M395.0,179.0 L403.0,167.0 387.0,167.0\" fill=\"currentColor\"/>\n",
       "</g>\n",
       "\n",
       "<g class=\"displacy-arrow\">\n",
       "    <path class=\"displacy-arc\" id=\"arrow-52afe678ecc44fc5b4f8920d96717222-0-2\" stroke-width=\"2px\" d=\"M420,177.0 C420,89.5 570.0,89.5 570.0,177.0\" fill=\"none\" stroke=\"currentColor\"/>\n",
       "    <text dy=\"1.25em\" style=\"font-size: 0.8em; letter-spacing: 1px\">\n",
       "        <textPath xlink:href=\"#arrow-52afe678ecc44fc5b4f8920d96717222-0-2\" class=\"displacy-label\" startOffset=\"50%\" side=\"left\" fill=\"currentColor\" text-anchor=\"middle\">prep</textPath>\n",
       "    </text>\n",
       "    <path class=\"displacy-arrowhead\" d=\"M570.0,179.0 L578.0,167.0 562.0,167.0\" fill=\"currentColor\"/>\n",
       "</g>\n",
       "\n",
       "<g class=\"displacy-arrow\">\n",
       "    <path class=\"displacy-arc\" id=\"arrow-52afe678ecc44fc5b4f8920d96717222-0-3\" stroke-width=\"2px\" d=\"M770,177.0 C770,89.5 920.0,89.5 920.0,177.0\" fill=\"none\" stroke=\"currentColor\"/>\n",
       "    <text dy=\"1.25em\" style=\"font-size: 0.8em; letter-spacing: 1px\">\n",
       "        <textPath xlink:href=\"#arrow-52afe678ecc44fc5b4f8920d96717222-0-3\" class=\"displacy-label\" startOffset=\"50%\" side=\"left\" fill=\"currentColor\" text-anchor=\"middle\">compound</textPath>\n",
       "    </text>\n",
       "    <path class=\"displacy-arrowhead\" d=\"M770,179.0 L762,167.0 778,167.0\" fill=\"currentColor\"/>\n",
       "</g>\n",
       "\n",
       "<g class=\"displacy-arrow\">\n",
       "    <path class=\"displacy-arc\" id=\"arrow-52afe678ecc44fc5b4f8920d96717222-0-4\" stroke-width=\"2px\" d=\"M945,177.0 C945,89.5 1095.0,89.5 1095.0,177.0\" fill=\"none\" stroke=\"currentColor\"/>\n",
       "    <text dy=\"1.25em\" style=\"font-size: 0.8em; letter-spacing: 1px\">\n",
       "        <textPath xlink:href=\"#arrow-52afe678ecc44fc5b4f8920d96717222-0-4\" class=\"displacy-label\" startOffset=\"50%\" side=\"left\" fill=\"currentColor\" text-anchor=\"middle\">compound</textPath>\n",
       "    </text>\n",
       "    <path class=\"displacy-arrowhead\" d=\"M945,179.0 L937,167.0 953,167.0\" fill=\"currentColor\"/>\n",
       "</g>\n",
       "\n",
       "<g class=\"displacy-arrow\">\n",
       "    <path class=\"displacy-arc\" id=\"arrow-52afe678ecc44fc5b4f8920d96717222-0-5\" stroke-width=\"2px\" d=\"M595,177.0 C595,2.0 1100.0,2.0 1100.0,177.0\" fill=\"none\" stroke=\"currentColor\"/>\n",
       "    <text dy=\"1.25em\" style=\"font-size: 0.8em; letter-spacing: 1px\">\n",
       "        <textPath xlink:href=\"#arrow-52afe678ecc44fc5b4f8920d96717222-0-5\" class=\"displacy-label\" startOffset=\"50%\" side=\"left\" fill=\"currentColor\" text-anchor=\"middle\">pobj</textPath>\n",
       "    </text>\n",
       "    <path class=\"displacy-arrowhead\" d=\"M1100.0,179.0 L1108.0,167.0 1092.0,167.0\" fill=\"currentColor\"/>\n",
       "</g>\n",
       "</svg>\n",
       "</figure>\n",
       "</body>\n",
       "</html></span>"
      ],
      "text/plain": [
       "<IPython.core.display.HTML object>"
      ]
     },
     "metadata": {},
     "output_type": "display_data"
    },
    {
     "name": "stdout",
     "output_type": "stream",
     "text": [
      "\n",
      "Using the 'dep' visualizer\n",
      "Serving on http://0.0.0.0:8000 ...\n",
      "\n"
     ]
    },
    {
     "name": "stderr",
     "output_type": "stream",
     "text": [
      "127.0.0.1 - - [02/May/2023 12:36:16] \"GET / HTTP/1.1\" 200 5909\n",
      "127.0.0.1 - - [02/May/2023 12:36:17] \"GET /favicon.ico HTTP/1.1\" 200 5909\n"
     ]
    },
    {
     "name": "stdout",
     "output_type": "stream",
     "text": [
      "Shutting down server on port 8000.\n"
     ]
    }
   ],
   "source": [
    "about_interest_text = (\"He is interested in Natural Language Processing.\")\n",
    "about_interest_doc = nlp(about_interest_text)\n",
    "displacy.serve(about_interest_doc, style=\"dep\", port=8000)"
   ]
  }
 ],
 "metadata": {
  "kernelspec": {
   "display_name": "Python 3",
   "language": "python",
   "name": "python3"
  },
  "language_info": {
   "codemirror_mode": {
    "name": "ipython",
    "version": 3
   },
   "file_extension": ".py",
   "mimetype": "text/x-python",
   "name": "python",
   "nbconvert_exporter": "python",
   "pygments_lexer": "ipython3",
   "version": "3.9.9"
  },
  "orig_nbformat": 4
 },
 "nbformat": 4,
 "nbformat_minor": 2
}
