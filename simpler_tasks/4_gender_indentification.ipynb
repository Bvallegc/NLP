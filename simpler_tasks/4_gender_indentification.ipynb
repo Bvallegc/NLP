{
 "cells": [
  {
   "cell_type": "code",
   "execution_count": 1,
   "metadata": {},
   "outputs": [],
   "source": [
    "import nltk\n",
    "from nltk.corpus import names\n",
    "import random\n",
    "from nltk.classify import apply_features"
   ]
  },
  {
   "cell_type": "code",
   "execution_count": 2,
   "metadata": {},
   "outputs": [
    {
     "data": {
      "text/plain": [
       "{'last_letter': 'k', 'first_letter': 'S', 'length': 5, 'second_Last': 'e'}"
      ]
     },
     "execution_count": 2,
     "metadata": {},
     "output_type": "execute_result"
    }
   ],
   "source": [
    "# Define the features of the naive bayes classifier.\n",
    "def gender_feature(word):\n",
    "    return{'last_letter': word[-1],\n",
    "            'first_letter': word[0],\n",
    "            'length': len(word),\n",
    "            'second_Last': word[-2]}\n",
    "\n",
    "gender_feature('Shrek')"
   ]
  },
  {
   "cell_type": "code",
   "execution_count": 3,
   "metadata": {},
   "outputs": [],
   "source": [
    "def gender_feature2(name):\n",
    "    features = {}\n",
    "    features[\"first_letter\"] = name[0].lower()\n",
    "    features[\"last_letter\"] = name[-1].lower()\n",
    "    for letter in 'abcdefghijklmnopqrstuvwxyz':\n",
    "        features[\"count({})\".format(letter)] = name.lower().count(letter)\n",
    "        features[\"has({})\".format(letter)] = (letter in name.lower())\n",
    "    return features"
   ]
  },
  {
   "cell_type": "code",
   "execution_count": 4,
   "metadata": {},
   "outputs": [
    {
     "data": {
      "text/plain": [
       "{'first_letter': 'b',\n",
       " 'last_letter': 'n',\n",
       " 'count(a)': 1,\n",
       " 'has(a)': True,\n",
       " 'count(b)': 1,\n",
       " 'has(b)': True,\n",
       " 'count(c)': 0,\n",
       " 'has(c)': False,\n",
       " 'count(d)': 0,\n",
       " 'has(d)': False,\n",
       " 'count(e)': 1,\n",
       " 'has(e)': True,\n",
       " 'count(f)': 0,\n",
       " 'has(f)': False,\n",
       " 'count(g)': 0,\n",
       " 'has(g)': False,\n",
       " 'count(h)': 0,\n",
       " 'has(h)': False,\n",
       " 'count(i)': 0,\n",
       " 'has(i)': False,\n",
       " 'count(j)': 0,\n",
       " 'has(j)': False,\n",
       " 'count(k)': 0,\n",
       " 'has(k)': False,\n",
       " 'count(l)': 1,\n",
       " 'has(l)': True,\n",
       " 'count(m)': 0,\n",
       " 'has(m)': False,\n",
       " 'count(n)': 1,\n",
       " 'has(n)': True,\n",
       " 'count(o)': 0,\n",
       " 'has(o)': False,\n",
       " 'count(p)': 0,\n",
       " 'has(p)': False,\n",
       " 'count(q)': 0,\n",
       " 'has(q)': False,\n",
       " 'count(r)': 1,\n",
       " 'has(r)': True,\n",
       " 'count(s)': 0,\n",
       " 'has(s)': False,\n",
       " 'count(t)': 1,\n",
       " 'has(t)': True,\n",
       " 'count(u)': 0,\n",
       " 'has(u)': False,\n",
       " 'count(v)': 0,\n",
       " 'has(v)': False,\n",
       " 'count(w)': 0,\n",
       " 'has(w)': False,\n",
       " 'count(x)': 0,\n",
       " 'has(x)': False,\n",
       " 'count(y)': 0,\n",
       " 'has(y)': False,\n",
       " 'count(z)': 0,\n",
       " 'has(z)': False}"
      ]
     },
     "execution_count": 4,
     "metadata": {},
     "output_type": "execute_result"
    }
   ],
   "source": [
    "gender_feature2('Beltran')"
   ]
  },
  {
   "cell_type": "code",
   "execution_count": 5,
   "metadata": {},
   "outputs": [],
   "source": [
    "labeled_names = ([(name, 'male') for name in names.words('male.txt')] + \n",
    "[(name, 'female') for name in names.words('female.txt')])\n",
    "random.shuffle(labeled_names)"
   ]
  },
  {
   "cell_type": "code",
   "execution_count": 6,
   "metadata": {},
   "outputs": [],
   "source": [
    "feature_sets = [(gender_feature(n), gender) for (n, gender) in labeled_names]\n",
    "train_set, test_set = feature_sets[500:], feature_sets[:500]\n",
    "classifier = nltk.NaiveBayesClassifier.train(train_set)"
   ]
  },
  {
   "cell_type": "code",
   "execution_count": 7,
   "metadata": {},
   "outputs": [
    {
     "data": {
      "text/plain": [
       "'male'"
      ]
     },
     "execution_count": 7,
     "metadata": {},
     "output_type": "execute_result"
    }
   ],
   "source": [
    "classifier.classify(gender_feature('Beltran'))"
   ]
  },
  {
   "cell_type": "code",
   "execution_count": 8,
   "metadata": {},
   "outputs": [
    {
     "name": "stdout",
     "output_type": "stream",
     "text": [
      "0.778\n"
     ]
    }
   ],
   "source": [
    "print(nltk.classify.accuracy(classifier, test_set))"
   ]
  },
  {
   "cell_type": "code",
   "execution_count": 9,
   "metadata": {},
   "outputs": [
    {
     "name": "stdout",
     "output_type": "stream",
     "text": [
      "Most Informative Features\n",
      "             last_letter = 'k'              male : female =     46.4 : 1.0\n",
      "             last_letter = 'a'            female : male   =     33.4 : 1.0\n",
      "             last_letter = 'v'              male : female =     17.3 : 1.0\n",
      "             last_letter = 'f'              male : female =     17.0 : 1.0\n",
      "             last_letter = 'p'              male : female =     12.4 : 1.0\n",
      "             last_letter = 'd'              male : female =      9.6 : 1.0\n",
      "             last_letter = 'm'              male : female =      9.2 : 1.0\n",
      "             last_letter = 'o'              male : female =      8.9 : 1.0\n",
      "             second_Last = 'o'              male : female =      7.3 : 1.0\n",
      "             last_letter = 'r'              male : female =      7.3 : 1.0\n",
      "             second_Last = 'u'              male : female =      6.4 : 1.0\n",
      "             last_letter = 'w'              male : female =      5.3 : 1.0\n",
      "            first_letter = 'W'              male : female =      4.8 : 1.0\n",
      "             last_letter = 'g'              male : female =      4.7 : 1.0\n",
      "             last_letter = 't'              male : female =      4.3 : 1.0\n",
      "             last_letter = 's'              male : female =      4.3 : 1.0\n",
      "             last_letter = 'b'              male : female =      4.2 : 1.0\n",
      "             last_letter = 'z'              male : female =      3.9 : 1.0\n",
      "             second_Last = 'E'              male : female =      3.9 : 1.0\n",
      "             last_letter = 'i'            female : male   =      3.7 : 1.0\n",
      "             last_letter = 'u'              male : female =      3.5 : 1.0\n",
      "             second_Last = 'y'            female : male   =      3.4 : 1.0\n",
      "             second_Last = 'f'              male : female =      2.9 : 1.0\n",
      "             second_Last = 'n'            female : male   =      2.9 : 1.0\n",
      "            first_letter = 'X'              male : female =      2.8 : 1.0\n",
      "             last_letter = 'j'              male : female =      2.8 : 1.0\n",
      "            first_letter = 'Q'              male : female =      2.7 : 1.0\n",
      "            first_letter = 'U'              male : female =      2.6 : 1.0\n",
      "             second_Last = 'a'              male : female =      2.6 : 1.0\n",
      "             second_Last = 't'            female : male   =      2.5 : 1.0\n",
      "            first_letter = 'K'            female : male   =      2.4 : 1.0\n",
      "             second_Last = 's'            female : male   =      2.4 : 1.0\n",
      "            first_letter = 'H'              male : female =      2.3 : 1.0\n",
      "             last_letter = 'n'              male : female =      2.1 : 1.0\n",
      "                  length = 3                male : female =      2.1 : 1.0\n",
      "             second_Last = 'c'              male : female =      2.0 : 1.0\n",
      "             second_Last = 'd'            female : male   =      2.0 : 1.0\n",
      "             last_letter = 'x'              male : female =      1.9 : 1.0\n",
      "             last_letter = 'e'            female : male   =      1.8 : 1.0\n",
      "             last_letter = 'l'              male : female =      1.8 : 1.0\n",
      "            first_letter = 'L'            female : male   =      1.7 : 1.0\n",
      "            first_letter = 'T'              male : female =      1.7 : 1.0\n",
      "             second_Last = 'e'              male : female =      1.7 : 1.0\n",
      "                  length = 13               male : female =      1.7 : 1.0\n",
      "                  length = 15               male : female =      1.7 : 1.0\n",
      "                  length = 2                male : female =      1.7 : 1.0\n",
      "             second_Last = 'A'              male : female =      1.7 : 1.0\n",
      "             second_Last = 'g'              male : female =      1.7 : 1.0\n",
      "             second_Last = 'w'              male : female =      1.7 : 1.0\n",
      "            first_letter = 'C'            female : male   =      1.7 : 1.0\n",
      "            first_letter = 'Z'              male : female =      1.6 : 1.0\n",
      "             second_Last = 'p'              male : female =      1.6 : 1.0\n",
      "            first_letter = 'M'            female : male   =      1.5 : 1.0\n",
      "                  length = 10             female : male   =      1.5 : 1.0\n",
      "            first_letter = 'Y'              male : female =      1.5 : 1.0\n",
      "             second_Last = 'z'            female : male   =      1.5 : 1.0\n",
      "             second_Last = 'h'            female : male   =      1.5 : 1.0\n",
      "             last_letter = 'h'              male : female =      1.4 : 1.0\n",
      "             second_Last = 'r'              male : female =      1.4 : 1.0\n",
      "             second_Last = 'm'            female : male   =      1.4 : 1.0\n",
      "            first_letter = 'P'              male : female =      1.4 : 1.0\n",
      "            first_letter = 'R'              male : female =      1.4 : 1.0\n",
      "                  length = 9              female : male   =      1.3 : 1.0\n",
      "            first_letter = 'O'              male : female =      1.3 : 1.0\n",
      "             second_Last = 'l'            female : male   =      1.3 : 1.0\n",
      "            first_letter = 'S'              male : female =      1.3 : 1.0\n",
      "            first_letter = 'D'            female : male   =      1.3 : 1.0\n",
      "                  length = 4                male : female =      1.3 : 1.0\n",
      "            first_letter = 'G'              male : female =      1.2 : 1.0\n",
      "                  length = 11             female : male   =      1.2 : 1.0\n",
      "            first_letter = 'A'            female : male   =      1.2 : 1.0\n",
      "            first_letter = 'V'            female : male   =      1.2 : 1.0\n",
      "             second_Last = 'b'              male : female =      1.2 : 1.0\n",
      "            first_letter = 'E'            female : male   =      1.2 : 1.0\n",
      "             last_letter = 'y'              male : female =      1.2 : 1.0\n",
      "            first_letter = 'J'            female : male   =      1.2 : 1.0\n",
      "            first_letter = 'B'              male : female =      1.2 : 1.0\n",
      "                  length = 12               male : female =      1.2 : 1.0\n",
      "             second_Last = 'v'            female : male   =      1.1 : 1.0\n",
      "                  length = 7              female : male   =      1.1 : 1.0\n",
      "            first_letter = 'N'            female : male   =      1.1 : 1.0\n",
      "             second_Last = 'i'            female : male   =      1.1 : 1.0\n",
      "                  length = 8              female : male   =      1.1 : 1.0\n",
      "                  length = 5              female : male   =      1.1 : 1.0\n",
      "            first_letter = 'I'            female : male   =      1.1 : 1.0\n",
      "                  length = 6                male : female =      1.1 : 1.0\n",
      "             second_Last = 'k'              male : female =      1.0 : 1.0\n",
      "            first_letter = 'F'              male : female =      1.0 : 1.0\n"
     ]
    }
   ],
   "source": [
    "classifier.show_most_informative_features(100)"
   ]
  },
  {
   "cell_type": "code",
   "execution_count": 10,
   "metadata": {},
   "outputs": [],
   "source": [
    "train_set = apply_features(gender_feature, labeled_names[500:])\n",
    "test_set = apply_features(gender_feature, labeled_names[:500])"
   ]
  },
  {
   "cell_type": "code",
   "execution_count": 11,
   "metadata": {},
   "outputs": [],
   "source": [
    "train_names = labeled_names[1500:]\n",
    "devtest_names = labeled_names[500:1500]\n",
    "test_names = labeled_names[:500]"
   ]
  },
  {
   "cell_type": "code",
   "execution_count": 12,
   "metadata": {},
   "outputs": [],
   "source": [
    "# Naive Bayes classifier algorithm works by looking at a set of features,\n",
    "# assuming that they are independent of each other, and calculating the probability\n",
    "# that a thing belongs to a certain category based on those features using Bayes' theorem.\n",
    "train_set = [(gender_feature(n), gender) for (n, gender) in train_names]\n",
    "devtest_set = [(gender_feature(n), gender) for (n, gender) in devtest_names]\n",
    "test_set = [(gender_feature(n), gender) for (n, gender) in test_names]\n",
    "classifier2 = nltk.NaiveBayesClassifier.train(train_set)"
   ]
  },
  {
   "cell_type": "code",
   "execution_count": 13,
   "metadata": {},
   "outputs": [
    {
     "name": "stdout",
     "output_type": "stream",
     "text": [
      "0.78\n"
     ]
    }
   ],
   "source": [
    "print(nltk.classify.accuracy(classifier,devtest_set))"
   ]
  },
  {
   "cell_type": "code",
   "execution_count": 14,
   "metadata": {},
   "outputs": [
    {
     "name": "stdout",
     "output_type": "stream",
     "text": [
      "222\n"
     ]
    }
   ],
   "source": [
    "errors = []\n",
    "for (name, tag) in devtest_names:\n",
    "    guess = classifier2.classify(gender_feature(name))\n",
    "    if guess != tag:\n",
    "        errors.append((tag, guess, name))\n",
    "print(len(errors))"
   ]
  },
  {
   "cell_type": "code",
   "execution_count": 15,
   "metadata": {},
   "outputs": [
    {
     "name": "stdout",
     "output_type": "stream",
     "text": [
      "correct=female   guess=male     name=Allis                         \n",
      "correct=female   guess=male     name=Barry                         \n",
      "correct=female   guess=male     name=Bel                           \n",
      "correct=female   guess=male     name=Blair                         \n",
      "correct=female   guess=male     name=Buffy                         \n",
      "correct=female   guess=male     name=Cathleen                      \n",
      "correct=female   guess=male     name=Charo                         \n",
      "correct=female   guess=male     name=Christian                     \n",
      "correct=female   guess=male     name=Chrystal                      \n",
      "correct=female   guess=male     name=Cleo                          \n",
      "correct=female   guess=male     name=Cloris                        \n",
      "correct=female   guess=male     name=Clovis                        \n",
      "correct=female   guess=male     name=Cristal                       \n",
      "correct=female   guess=male     name=Daloris                       \n",
      "correct=female   guess=male     name=Darb                          \n",
      "correct=female   guess=male     name=Dareen                        \n",
      "correct=female   guess=male     name=Darleen                       \n",
      "correct=female   guess=male     name=Demetris                      \n",
      "correct=female   guess=male     name=Dido                          \n",
      "correct=female   guess=male     name=Doloritas                     \n",
      "correct=female   guess=male     name=Doris                         \n",
      "correct=female   guess=male     name=Dyan                          \n",
      "correct=female   guess=male     name=Em                            \n",
      "correct=female   guess=male     name=Enid                          \n",
      "correct=female   guess=male     name=Eran                          \n",
      "correct=female   guess=male     name=Esther                        \n",
      "correct=female   guess=male     name=Ethelind                      \n",
      "correct=female   guess=male     name=Evaleen                       \n",
      "correct=female   guess=male     name=Floris                        \n",
      "correct=female   guess=male     name=Flower                        \n",
      "correct=female   guess=male     name=Gabey                         \n",
      "correct=female   guess=male     name=Gael                          \n",
      "correct=female   guess=male     name=Gay                           \n",
      "correct=female   guess=male     name=Gennifer                      \n",
      "correct=female   guess=male     name=Gert                          \n",
      "correct=female   guess=male     name=Gertrudis                     \n",
      "correct=female   guess=male     name=Gretal                        \n",
      "correct=female   guess=male     name=Harriet                       \n",
      "correct=female   guess=male     name=Harriett                      \n",
      "correct=female   guess=male     name=Hedwig                        \n",
      "correct=female   guess=male     name=Hillary                       \n",
      "correct=female   guess=male     name=Hilliary                      \n",
      "correct=female   guess=male     name=Holley                        \n",
      "correct=female   guess=male     name=Imojean                       \n",
      "correct=female   guess=male     name=Ingaberg                      \n",
      "correct=female   guess=male     name=Ingaborg                      \n",
      "correct=female   guess=male     name=Ingrid                        \n",
      "correct=female   guess=male     name=Isobel                        \n",
      "correct=female   guess=male     name=Janeen                        \n",
      "correct=female   guess=male     name=Janot                         \n",
      "correct=female   guess=male     name=Joannes                       \n",
      "correct=female   guess=male     name=Joellen                       \n",
      "correct=female   guess=male     name=Jourdan                       \n",
      "correct=female   guess=male     name=Leanor                        \n",
      "correct=female   guess=male     name=Leorah                        \n",
      "correct=female   guess=male     name=Lil                           \n",
      "correct=female   guess=male     name=Lulu                          \n",
      "correct=female   guess=male     name=Madelon                       \n",
      "correct=female   guess=male     name=Mag                           \n",
      "correct=female   guess=male     name=Mariellen                     \n",
      "correct=female   guess=male     name=Marion                        \n",
      "correct=female   guess=male     name=Maris                         \n",
      "correct=female   guess=male     name=Marleah                       \n",
      "correct=female   guess=male     name=Marris                        \n",
      "correct=female   guess=male     name=Marylou                       \n",
      "correct=female   guess=male     name=Meghan                        \n",
      "correct=female   guess=male     name=Mercedes                      \n",
      "correct=female   guess=male     name=Meris                         \n",
      "correct=female   guess=male     name=Mildrid                       \n",
      "correct=female   guess=male     name=Nadean                        \n",
      "correct=female   guess=male     name=Pat                           \n",
      "correct=female   guess=male     name=Peggy                         \n",
      "correct=female   guess=male     name=Pen                           \n",
      "correct=female   guess=male     name=Phyllys                       \n",
      "correct=female   guess=male     name=Pooh                          \n",
      "correct=female   guess=male     name=Rhianon                       \n",
      "correct=female   guess=male     name=Robinet                       \n",
      "correct=female   guess=male     name=Shanon                        \n",
      "correct=female   guess=male     name=Shaun                         \n",
      "correct=female   guess=male     name=Sheelah                       \n",
      "correct=female   guess=male     name=Sheilah                       \n",
      "correct=female   guess=male     name=Sherry                        \n",
      "correct=female   guess=male     name=Sibby                         \n",
      "correct=female   guess=male     name=Siobhan                       \n",
      "correct=female   guess=male     name=Sioux                         \n",
      "correct=female   guess=male     name=Suzan                         \n",
      "correct=female   guess=male     name=Tarah                         \n",
      "correct=female   guess=male     name=Tess                          \n",
      "correct=female   guess=male     name=Tiff                          \n",
      "correct=female   guess=male     name=Tiffy                         \n",
      "correct=female   guess=male     name=Tobey                         \n",
      "correct=female   guess=male     name=Ulrike                        \n",
      "correct=female   guess=male     name=Umeko                         \n",
      "correct=female   guess=male     name=Veradis                       \n",
      "correct=female   guess=male     name=Viv                           \n",
      "correct=female   guess=male     name=Vivien                        \n",
      "correct=female   guess=male     name=Viviyan                       \n",
      "correct=female   guess=male     name=Whitney                       \n",
      "correct=female   guess=male     name=Willyt                        \n",
      "correct=female   guess=male     name=Winny                         \n",
      "correct=female   guess=male     name=Wynny                         \n",
      "correct=male     guess=female   name=Adolphe                       \n",
      "correct=male     guess=female   name=Allyn                         \n",
      "correct=male     guess=female   name=Alwin                         \n",
      "correct=male     guess=female   name=Anatoly                       \n",
      "correct=male     guess=female   name=Anthony                       \n",
      "correct=male     guess=female   name=Ashish                        \n",
      "correct=male     guess=female   name=Augie                         \n",
      "correct=male     guess=female   name=Averell                       \n",
      "correct=male     guess=female   name=Barde                         \n",
      "correct=male     guess=female   name=Barnaby                       \n",
      "correct=male     guess=female   name=Barty                         \n",
      "correct=male     guess=female   name=Benn                          \n",
      "correct=male     guess=female   name=Bennie                        \n",
      "correct=male     guess=female   name=Billy                         \n",
      "correct=male     guess=female   name=Caldwell                      \n",
      "correct=male     guess=female   name=Carlie                        \n",
      "correct=male     guess=female   name=Caryl                         \n",
      "correct=male     guess=female   name=Cass                          \n",
      "correct=male     guess=female   name=Cecil                         \n",
      "correct=male     guess=female   name=Chevy                         \n",
      "correct=male     guess=female   name=Clancy                        \n",
      "correct=male     guess=female   name=Clarence                      \n",
      "correct=male     guess=female   name=Clemens                       \n",
      "correct=male     guess=female   name=Clive                         \n",
      "correct=male     guess=female   name=Corrie                        \n",
      "correct=male     guess=female   name=Cory                          \n",
      "correct=male     guess=female   name=Curtice                       \n",
      "correct=male     guess=female   name=Cyrille                       \n",
      "correct=male     guess=female   name=Dabney                        \n",
      "correct=male     guess=female   name=Dale                          \n",
      "correct=male     guess=female   name=Dante                         \n",
      "correct=male     guess=female   name=Darby                         \n",
      "correct=male     guess=female   name=Darwin                        \n",
      "correct=male     guess=female   name=Deane                         \n",
      "correct=male     guess=female   name=Devin                         \n",
      "correct=male     guess=female   name=Dewitt                        \n",
      "correct=male     guess=female   name=Dory                          \n",
      "correct=male     guess=female   name=Douglass                      \n",
      "correct=male     guess=female   name=Drake                         \n",
      "correct=male     guess=female   name=Durante                       \n",
      "correct=male     guess=female   name=Dwane                         \n",
      "correct=male     guess=female   name=Eddie                         \n",
      "correct=male     guess=female   name=Elisha                        \n",
      "correct=male     guess=female   name=Elwin                         \n",
      "correct=male     guess=female   name=Eugene                        \n",
      "correct=male     guess=female   name=Everett                       \n",
      "correct=male     guess=female   name=Filmore                       \n",
      "correct=male     guess=female   name=Fitz                          \n",
      "correct=male     guess=female   name=Flynn                         \n",
      "correct=male     guess=female   name=George                        \n",
      "correct=male     guess=female   name=Geri                          \n",
      "correct=male     guess=female   name=Giorgi                        \n",
      "correct=male     guess=female   name=Glynn                         \n",
      "correct=male     guess=female   name=Granville                     \n",
      "correct=male     guess=female   name=Griffith                      \n",
      "correct=male     guess=female   name=Hersh                         \n",
      "correct=male     guess=female   name=Herve                         \n",
      "correct=male     guess=female   name=Howie                         \n",
      "correct=male     guess=female   name=Izzy                          \n",
      "correct=male     guess=female   name=Jeffery                       \n",
      "correct=male     guess=female   name=Jeromy                        \n",
      "correct=male     guess=female   name=Jerrome                       \n",
      "correct=male     guess=female   name=Johann                        \n",
      "correct=male     guess=female   name=Jordy                         \n",
      "correct=male     guess=female   name=Jose                          \n",
      "correct=male     guess=female   name=Kalil                         \n",
      "correct=male     guess=female   name=Kalle                         \n",
      "correct=male     guess=female   name=Kalvin                        \n",
      "correct=male     guess=female   name=Kelwin                        \n",
      "correct=male     guess=female   name=Lane                          \n",
      "correct=male     guess=female   name=Larry                         \n",
      "correct=male     guess=female   name=Laurence                      \n",
      "correct=male     guess=female   name=Lee                           \n",
      "correct=male     guess=female   name=Leigh                         \n",
      "correct=male     guess=female   name=Locke                         \n",
      "correct=male     guess=female   name=Lonny                         \n",
      "correct=male     guess=female   name=Lorrie                        \n",
      "correct=male     guess=female   name=Lovell                        \n",
      "correct=male     guess=female   name=Lynn                          \n",
      "correct=male     guess=female   name=Marmaduke                     \n",
      "correct=male     guess=female   name=Maurise                       \n",
      "correct=male     guess=female   name=Maurits                       \n",
      "correct=male     guess=female   name=Moishe                        \n",
      "correct=male     guess=female   name=Monty                         \n",
      "correct=male     guess=female   name=Morrie                        \n",
      "correct=male     guess=female   name=Nathanil                      \n",
      "correct=male     guess=female   name=Neale                         \n",
      "correct=male     guess=female   name=Neddy                         \n",
      "correct=male     guess=female   name=Neville                       \n",
      "correct=male     guess=female   name=Nickie                        \n",
      "correct=male     guess=female   name=Nikolai                       \n",
      "correct=male     guess=female   name=Odell                         \n",
      "correct=male     guess=female   name=Ozzy                          \n",
      "correct=male     guess=female   name=Partha                        \n",
      "correct=male     guess=female   name=Pascale                       \n",
      "correct=male     guess=female   name=Pete                          \n",
      "correct=male     guess=female   name=Ramesh                        \n",
      "correct=male     guess=female   name=Randall                       \n",
      "correct=male     guess=female   name=Randy                         \n",
      "correct=male     guess=female   name=Rene                          \n",
      "correct=male     guess=female   name=Rocky                         \n",
      "correct=male     guess=female   name=Roddie                        \n",
      "correct=male     guess=female   name=Rodge                         \n",
      "correct=male     guess=female   name=Roni                          \n",
      "correct=male     guess=female   name=Royce                         \n",
      "correct=male     guess=female   name=Ruddie                        \n",
      "correct=male     guess=female   name=Ruddy                         \n",
      "correct=male     guess=female   name=Sascha                        \n",
      "correct=male     guess=female   name=Sergei                        \n",
      "correct=male     guess=female   name=Seth                          \n",
      "correct=male     guess=female   name=Simone                        \n",
      "correct=male     guess=female   name=Sollie                        \n",
      "correct=male     guess=female   name=Stevy                         \n",
      "correct=male     guess=female   name=Sunny                         \n",
      "correct=male     guess=female   name=Townie                        \n",
      "correct=male     guess=female   name=Tracie                        \n",
      "correct=male     guess=female   name=Tremaine                      \n",
      "correct=male     guess=female   name=Vale                          \n",
      "correct=male     guess=female   name=Willi                         \n",
      "correct=male     guess=female   name=Yehudi                        \n",
      "correct=male     guess=female   name=Zacharie                      \n"
     ]
    }
   ],
   "source": [
    "for (tag, guess, name) in sorted(errors):\n",
    "    print('correct={:<8} guess={:<8s} name={:<30}'.format(tag, guess, name))"
   ]
  }
 ],
 "metadata": {
  "kernelspec": {
   "display_name": "base",
   "language": "python",
   "name": "python3"
  },
  "language_info": {
   "codemirror_mode": {
    "name": "ipython",
    "version": 3
   },
   "file_extension": ".py",
   "mimetype": "text/x-python",
   "name": "python",
   "nbconvert_exporter": "python",
   "pygments_lexer": "ipython3",
   "version": "3.9.9"
  },
  "orig_nbformat": 4,
  "vscode": {
   "interpreter": {
    "hash": "92c47965173f63e96282a87426b640f46a43846fe3c17380404fa3ad3461faa7"
   }
  }
 },
 "nbformat": 4,
 "nbformat_minor": 2
}
