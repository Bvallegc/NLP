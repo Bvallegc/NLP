{
 "cells": [
  {
   "cell_type": "code",
   "execution_count": 207,
   "metadata": {},
   "outputs": [],
   "source": [
    "import re\n",
    "# .match() Determine if the RE matches at the beginning of the string\n",
    "# .search() Scan through a string, looking for any location where this RE matches\n",
    "# .findall() Find all substrings where the RE matches, and returns them as a list\n",
    "# .finditer() Find all substrings where the RE matches, and returns them as an iterator."
   ]
  },
  {
   "cell_type": "code",
   "execution_count": 208,
   "metadata": {},
   "outputs": [
    {
     "name": "stdout",
     "output_type": "stream",
     "text": [
      "<re.Match object; span=(0, 4), match='This'>\n"
     ]
    }
   ],
   "source": [
    "sent = \"This book on tennis cost $3.9994 at Walmart where tenia tanto.\"\n",
    "p1 = re.compile(\"This\")\n",
    "m1 = p1.match(sent)\n",
    "print(m1)"
   ]
  },
  {
   "cell_type": "code",
   "execution_count": 209,
   "metadata": {},
   "outputs": [
    {
     "name": "stdout",
     "output_type": "stream",
     "text": [
      "['Walmart']\n"
     ]
    }
   ],
   "source": [
    "mUpper = re.compile(r\"\\b[wW]almart\\b\") #include word boundaries (\\b), which ensure that the pattern matches only the word \"Walmart\" (with either uppercase or lowercase \"W\") and not a substring of a word. [wW]almart will also work but other matches like walmarts will also appear.\n",
    "mUpperorLower = re.findall(mUpper, sent)\n",
    "print(mUpperorLower)"
   ]
  },
  {
   "cell_type": "code",
   "execution_count": 210,
   "metadata": {},
   "outputs": [
    {
     "name": "stdout",
     "output_type": "stream",
     "text": [
      "['b', 'c', 'a', 'a', 'a', 'a', 'a']\n"
     ]
    }
   ],
   "source": [
    "letters = re.compile(\"[abc]\") \n",
    "# We can do exactly the same with digits.\n",
    "# For all lowecase() letters [a-z]. \n",
    "# upperCase() letters [A-Z]. \n",
    "# Not upperCase() [^A-Z]...\n",
    "myletters = re.findall(letters, sent)\n",
    "print(myletters)"
   ]
  },
  {
   "cell_type": "code",
   "execution_count": 211,
   "metadata": {},
   "outputs": [
    {
     "name": "stdout",
     "output_type": "stream",
     "text": [
      "['tennis']\n"
     ]
    }
   ],
   "source": [
    "interrogationOperator = re.compile(r\"\\btennis?\\b\") # Searches both: with the preceding character to the interrogation and without the character.\n",
    "myinterrogationOperator = re.findall(interrogationOperator, sent)\n",
    "print(myinterrogationOperator)"
   ]
  },
  {
   "attachments": {},
   "cell_type": "markdown",
   "metadata": {},
   "source": [
    "Match searches at the beginning of the phrase and search searches througout all the sentence!!"
   ]
  },
  {
   "cell_type": "code",
   "execution_count": 212,
   "metadata": {},
   "outputs": [
    {
     "name": "stdout",
     "output_type": "stream",
     "text": [
      "<re.Match object; span=(0, 53), match='This book on tennis cost $3.9994 at Walmart where>\n"
     ]
    }
   ],
   "source": [
    "p2 = re.compile(\".*ten,*\") # Kleene star means “zero or more occurrences of the immediately previous character or regular expression”\n",
    "m2 = p2.match(sent)\n",
    "print(m2)"
   ]
  },
  {
   "cell_type": "code",
   "execution_count": 213,
   "metadata": {},
   "outputs": [
    {
     "name": "stdout",
     "output_type": "stream",
     "text": [
      "<re.Match object; span=(0, 4), match='This'>\n"
     ]
    }
   ],
   "source": [
    "m3 = re.search(p1,sent)\n",
    "print(m3)"
   ]
  },
  {
   "cell_type": "code",
   "execution_count": 214,
   "metadata": {},
   "outputs": [
    {
     "name": "stdout",
     "output_type": "stream",
     "text": [
      "<re.Match object; span=(0, 53), match='This book on tennis cost $3.9994 at Walmart where>\n"
     ]
    }
   ],
   "source": [
    "m4 = re.search(p2,sent)\n",
    "print(m4)"
   ]
  },
  {
   "cell_type": "code",
   "execution_count": 215,
   "metadata": {},
   "outputs": [
    {
     "name": "stdout",
     "output_type": "stream",
     "text": [
      "['is', 'is']\n"
     ]
    }
   ],
   "source": [
    "pp1 = re.compile(\"is\")\n",
    "m5 = re.findall(pp1, sent)\n",
    "print(m5)"
   ]
  },
  {
   "cell_type": "code",
   "execution_count": 216,
   "metadata": {},
   "outputs": [
    {
     "name": "stdout",
     "output_type": "stream",
     "text": [
      "<re.Match object; span=(26, 27), match='3'>\n"
     ]
    }
   ],
   "source": [
    "pp2 = re.compile(\"\\\\d\") # Digit\n",
    "m6 = re.search(pp2, sent)\n",
    "print(m6)"
   ]
  },
  {
   "cell_type": "code",
   "execution_count": 217,
   "metadata": {},
   "outputs": [
    {
     "name": "stdout",
     "output_type": "stream",
     "text": [
      "<re.Match object; span=(26, 27), match='3'>\n"
     ]
    }
   ],
   "source": [
    "pp3 = re.compile(\"\\\\d+\")\n",
    "m7 = re.search(pp3, sent)\n",
    "print(m7)"
   ]
  },
  {
   "cell_type": "code",
   "execution_count": 218,
   "metadata": {},
   "outputs": [
    {
     "name": "stdout",
     "output_type": "stream",
     "text": [
      "<re.Match object; span=(26, 27), match='3'>\n"
     ]
    }
   ],
   "source": [
    "pp3 = re.compile(\"\\\\$d\\\\d+\\\\.\\\\d\\\\d+\") # will match a string that starts with the dollar sign ($) followed by a single digit (0-9), one or more digits (0-9), a period (.), and two more digits (0-9).\n",
    "m8 = re.search(pp3, sent) \n",
    "print(m7)"
   ]
  },
  {
   "cell_type": "code",
   "execution_count": 219,
   "metadata": {},
   "outputs": [
    {
     "data": {
      "text/plain": [
       "<re.Match object; span=(13, 32), match='tennis cost $3.9994'>"
      ]
     },
     "execution_count": 219,
     "metadata": {},
     "output_type": "execute_result"
    }
   ],
   "source": [
    "ppp1 = re.compile(\"(\\\\w+) cost (\\\\$\\\\d+\\\\.\\\\d+)\") # Whatever is before cost and any digit witht he following structure $d+.d+\n",
    "mm1 = re.search(ppp1, sent)\n",
    "mm1"
   ]
  },
  {
   "cell_type": "code",
   "execution_count": 220,
   "metadata": {},
   "outputs": [
    {
     "data": {
      "text/plain": [
       "'tennis cost $3.9994'"
      ]
     },
     "execution_count": 220,
     "metadata": {},
     "output_type": "execute_result"
    }
   ],
   "source": [
    "mm1.group(0)"
   ]
  },
  {
   "cell_type": "code",
   "execution_count": 221,
   "metadata": {},
   "outputs": [
    {
     "data": {
      "text/plain": [
       "'tennis'"
      ]
     },
     "execution_count": 221,
     "metadata": {},
     "output_type": "execute_result"
    }
   ],
   "source": [
    "mm1.group(1)"
   ]
  },
  {
   "cell_type": "code",
   "execution_count": 230,
   "metadata": {},
   "outputs": [
    {
     "data": {
      "text/plain": [
       "'$3.9994'"
      ]
     },
     "execution_count": 230,
     "metadata": {},
     "output_type": "execute_result"
    }
   ],
   "source": [
    "mm1.group(2)"
   ]
  },
  {
   "cell_type": "code",
   "execution_count": 223,
   "metadata": {},
   "outputs": [],
   "source": [
    "line = \"Cats are smarter than cats\";\n",
    "searchObj = re.search(r'(.*) are (.*) .*', line, re.M|re.I)"
   ]
  },
  {
   "cell_type": "code",
   "execution_count": 224,
   "metadata": {},
   "outputs": [
    {
     "name": "stdout",
     "output_type": "stream",
     "text": [
      "searchObj.group() :  Cats are smarter than cats\n",
      "searchObj.group(1) :  Cats\n",
      "searchObj.group(1) :  smarter than\n"
     ]
    }
   ],
   "source": [
    "if searchObj:\n",
    "    print (\"searchObj.group() : \", searchObj.group())\n",
    "    print (\"searchObj.group(1) : \", searchObj.group(1))\n",
    "    print (\"searchObj.group(2) : \", searchObj.group(2))\n",
    "else:\n",
    "    print(\"Nothing found!\")"
   ]
  },
  {
   "cell_type": "code",
   "execution_count": 225,
   "metadata": {},
   "outputs": [
    {
     "name": "stdout",
     "output_type": "stream",
     "text": [
      "PINEAPPLE ice cream is 20\n",
      "('PINEAPPLE', '20')\n",
      "PINEAPPLE\n",
      "20\n"
     ]
    }
   ],
   "source": [
    "target_string = \"the price of PINEAPPLE ice cream is 20\"\n",
    "\n",
    "result = re.search(r\"(\\b[A-Z]+\\b).+(\\b\\d+)\", target_string)\n",
    "\n",
    "print(result.group(0))\n",
    "\n",
    "print(result.groups())\n",
    "\n",
    "print(result.group(1))\n",
    "\n",
    "print(result.group(2))"
   ]
  },
  {
   "cell_type": "code",
   "execution_count": 226,
   "metadata": {},
   "outputs": [
    {
     "name": "stdout",
     "output_type": "stream",
     "text": [
      "PINEAPPLE\n",
      "20\n",
      "MANGO\n",
      "30\n",
      "CHOCOLATE\n",
      "40\n"
     ]
    }
   ],
   "source": [
    "target_string = \"The price of ice-creams PINEAPPLE is 20 MANGO is 30 CHOCOLATE is 40\"\n",
    "pattern = re.compile(r\"(\\b[A-Z]+\\b) is (\\b\\d+\\b)\")\n",
    "\n",
    "for match in pattern.finditer(target_string):\n",
    "    print(match.group(1))\n",
    "    print(match.group(2))"
   ]
  },
  {
   "cell_type": "code",
   "execution_count": 227,
   "metadata": {},
   "outputs": [
    {
     "data": {
      "text/plain": [
       "'They ate five apples and five trucks'"
      ]
     },
     "execution_count": 227,
     "metadata": {},
     "output_type": "execute_result"
    }
   ],
   "source": [
    "ip = 'They ate 5 apples and 5 trucks'\n",
    "re.sub(r'5', 'five', ip)"
   ]
  },
  {
   "cell_type": "code",
   "execution_count": 228,
   "metadata": {},
   "outputs": [],
   "source": [
    "stringCheck = \"Check this string has characteres from c to h\""
   ]
  },
  {
   "cell_type": "code",
   "execution_count": 231,
   "metadata": {},
   "outputs": [
    {
     "name": "stdout",
     "output_type": "stream",
     "text": [
      "True\n",
      "False\n"
     ]
    }
   ],
   "source": [
    "def is_allowed_specific_char(string):\n",
    "    charRe = re.compile(r'[^a-zA-Z0-9]')\n",
    "    string = charRe.search(string)\n",
    "    return not bool(string)\n",
    "print(is_allowed_specific_char(\"ABCDEFabcdef123450\"))\n",
    "print(is_allowed_specific_char(\"*&%@#!}{\"))"
   ]
  }
 ],
 "metadata": {
  "kernelspec": {
   "display_name": "base",
   "language": "python",
   "name": "python3"
  },
  "language_info": {
   "codemirror_mode": {
    "name": "ipython",
    "version": 3
   },
   "file_extension": ".py",
   "mimetype": "text/x-python",
   "name": "python",
   "nbconvert_exporter": "python",
   "pygments_lexer": "ipython3",
   "version": "3.9.13"
  },
  "orig_nbformat": 4,
  "vscode": {
   "interpreter": {
    "hash": "92c47965173f63e96282a87426b640f46a43846fe3c17380404fa3ad3461faa7"
   }
  }
 },
 "nbformat": 4,
 "nbformat_minor": 2
}
